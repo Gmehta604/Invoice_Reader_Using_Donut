{
 "cells": [
  {
   "cell_type": "markdown",
   "id": "79d332df",
   "metadata": {},
   "source": [
    "# This is a waste of time notebook "
   ]
  },
  {
   "cell_type": "code",
   "execution_count": null,
   "id": "b3251f48",
   "metadata": {},
   "outputs": [],
   "source": []
  }
 ],
 "metadata": {
  "language_info": {
   "name": "python"
  }
 },
 "nbformat": 4,
 "nbformat_minor": 5
}
